{
 "cells": [
  {
   "cell_type": "markdown",
   "metadata": {},
   "source": [
    "# How to use Plotly Jupyter Lab Chart Editor\n",
    "## By: Jeff Hale"
   ]
  },
  {
   "cell_type": "markdown",
   "metadata": {},
   "source": [
    "This is a quick demo of the feature that I made after watching Jon Mease's presentation on Plotly Jupyter Lab Chart Editor from Oct. 31. \n",
    "\n",
    "Video available online here:\n",
    "https://www.crowdcast.io/e/introducing-JupyterLab-Chart-Editor/1"
   ]
  },
  {
   "cell_type": "markdown",
   "metadata": {},
   "source": [
    "Make sure you have the correct packages installed.\n",
    "\n",
    "Follow the installation instructions at https://github.com/plotly/plotly.py under *JupyterLab Support (Python 3.5+)*"
   ]
  },
  {
   "cell_type": "markdown",
   "metadata": {},
   "source": [
    "Make a new python3 notebook file in jupyter lab"
   ]
  },
  {
   "cell_type": "code",
   "execution_count": 2,
   "metadata": {},
   "outputs": [],
   "source": [
    "# import\n",
    "import plotly.io as pio\n",
    "import plotly.graph_objs as go"
   ]
  },
  {
   "cell_type": "code",
   "execution_count": 9,
   "metadata": {},
   "outputs": [
    {
     "data": {
      "application/vnd.jupyter.widget-view+json": {
       "model_id": "00365f0e439049e3a3692d2cf3558291",
       "version_major": 2,
       "version_minor": 0
      },
      "text/plain": [
       "FigureWidget({\n",
       "    'data': [{'type': 'scatter', 'uid': '55ec88b4-ddea-11e8-bd98-80e65005551c', 'y': [1, 2, 3]}…"
      ]
     },
     "metadata": {},
     "output_type": "display_data"
    }
   ],
   "source": [
    "# make a figure\n",
    "# go to the plotly docs for help: https://plot.ly/python/figurewidget/\n",
    "\n",
    "fig = go.FigureWidget()\n",
    "fig.add_scatter(y=[1,2,3])\n",
    "fig"
   ]
  },
  {
   "cell_type": "code",
   "execution_count": 10,
   "metadata": {},
   "outputs": [],
   "source": [
    "# Save a figure to .json format with \n",
    "pio.write_json(fig, 'my_file.json')"
   ]
  },
  {
   "cell_type": "markdown",
   "metadata": {},
   "source": [
    "Right click on the new file in the left file browser window. \n",
    "Choose *Open With->Plotly  Editor*. \n",
    "\n",
    "Make changes on the chart with the wysiwyg.\n",
    "\n",
    "You are editing the .json file.\n",
    "\n",
    "Save the file. To save as a new file. Go *File->Save JSON File as...*\n",
    "\n",
    "Switch back to your notebook where you made the fiel.\n",
    "\n",
    "Open the revised figure with the following:"
   ]
  },
  {
   "cell_type": "code",
   "execution_count": 16,
   "metadata": {},
   "outputs": [
    {
     "data": {
      "application/vnd.jupyter.widget-view+json": {
       "model_id": "f8bb5ef68d34494185b09c7e8ce8246e",
       "version_major": 2,
       "version_minor": 0
      },
      "text/plain": [
       "FigureWidget({\n",
       "    'data': [{'mode': 'lines+markers', 'type': 'scatter', 'uid': '8a776162-ddea-11e8-becb-80e65…"
      ]
     },
     "metadata": {},
     "output_type": "display_data"
    }
   ],
   "source": [
    "fig_after_work = pio.read_json('my_file_revised.json', output_type='FigureWidget')\n",
    "fig_after_work"
   ]
  },
  {
   "cell_type": "markdown",
   "metadata": {},
   "source": [
    "Now we have access to the changes we made in the chart editor. For example, let's access the new title. "
   ]
  },
  {
   "cell_type": "code",
   "execution_count": 17,
   "metadata": {},
   "outputs": [
    {
     "data": {
      "text/plain": [
       "'This Chart now has a title'"
      ]
     },
     "execution_count": 17,
     "metadata": {},
     "output_type": "execute_result"
    }
   ],
   "source": [
    "fig_after_work.layout.title"
   ]
  },
  {
   "cell_type": "markdown",
   "metadata": {},
   "source": [
    "Cool!"
   ]
  },
  {
   "cell_type": "markdown",
   "metadata": {},
   "source": [
    "Works offline, too."
   ]
  },
  {
   "cell_type": "markdown",
   "metadata": {},
   "source": [
    "Overall, this is super cool - combines the power of plotly with wysiwyg editing in Jupyter Lab!\n",
    "\n",
    "Thanks Jon and the rest of the plotly team!"
   ]
  }
 ],
 "metadata": {
  "kernelspec": {
   "display_name": "Python 3",
   "language": "python",
   "name": "python3"
  },
  "language_info": {
   "codemirror_mode": {
    "name": "ipython",
    "version": 3
   },
   "file_extension": ".py",
   "mimetype": "text/x-python",
   "name": "python",
   "nbconvert_exporter": "python",
   "pygments_lexer": "ipython3",
   "version": "3.6.6"
  }
 },
 "nbformat": 4,
 "nbformat_minor": 2
}
